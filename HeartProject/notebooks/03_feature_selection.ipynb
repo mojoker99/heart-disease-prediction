{
  "nbformat": 4,
  "nbformat_minor": 0,
  "metadata": {
    "colab": {
      "provenance": []
    },
    "kernelspec": {
      "name": "python3",
      "display_name": "Python 3"
    },
    "language_info": {
      "name": "python"
    }
  },
  "cells": [
    {
      "cell_type": "code",
      "source": [
        "from google.colab import drive\n",
        "drive.mount('/content/drive')\n",
        "\n",
        "import os\n",
        "import pandas as pd\n",
        "\n",
        "project_path = \"/content/drive/MyDrive/HeartProject\"\n",
        "data_path = os.path.join(project_path, \"data\")\n",
        "\n",
        "# Load\n",
        "X_scaled_df = pd.read_csv(os.path.join(data_path, \"X_scaled.csv\"))\n",
        "y = pd.read_csv(os.path.join(data_path, \"y.csv\")).squeeze()\n",
        "\n",
        "print(\"✅ Data loaded successfully from Google Drive!\")\n"
      ],
      "metadata": {
        "colab": {
          "base_uri": "https://localhost:8080/"
        },
        "id": "LQ6aPuKICdXH",
        "outputId": "e0ed197c-f51a-4763-d28c-b041a13a07fa"
      },
      "execution_count": null,
      "outputs": [
        {
          "output_type": "stream",
          "name": "stdout",
          "text": [
            "Drive already mounted at /content/drive; to attempt to forcibly remount, call drive.mount(\"/content/drive\", force_remount=True).\n",
            "✅ Data loaded successfully from Google Drive!\n"
          ]
        }
      ]
    },
    {
      "cell_type": "markdown",
      "metadata": {
        "id": "8mH1pEq2ja6P"
      },
      "source": [
        "# Step 3: Feature Selection\n",
        "\n",
        "To improve model performance and reduce noise, we need to select the most important features.  \n",
        "\n",
        "We will apply three different methods:\n",
        "1. **Random Forest Feature Importance** → ranks features based on how useful they are in classification.\n",
        "2. **Recursive Feature Elimination (RFE)** → recursively removes the least important features using Logistic Regression.\n",
        "3. **Chi-Square Test** → statistical test to check dependency between features and target.  \n",
        "\n",
        "Finally, we will combine results to select the **top common features** for our final model.\n"
      ]
    },
    {
      "cell_type": "markdown",
      "metadata": {
        "id": "tSRikJOJewL8"
      },
      "source": [
        "Random Forest Feature Importance"
      ]
    },
    {
      "cell_type": "code",
      "execution_count": null,
      "metadata": {
        "colab": {
          "base_uri": "https://localhost:8080/"
        },
        "id": "SF7xFoyQjdvW",
        "outputId": "e81c2810-d97f-4a56-9151-57397a2f2594"
      },
      "outputs": [
        {
          "output_type": "stream",
          "name": "stdout",
          "text": [
            "Top 10 features by RF importance:\n",
            "thalach      0.130526\n",
            "oldpeak      0.123987\n",
            "chol         0.114644\n",
            "age          0.114296\n",
            "ca           0.099617\n",
            "trestbps     0.093183\n",
            "cp_4.0       0.063869\n",
            "thal_7.0     0.060529\n",
            "exang        0.042995\n",
            "slope_2.0    0.033848\n",
            "dtype: float64\n"
          ]
        }
      ],
      "source": [
        "from sklearn.ensemble import RandomForestClassifier\n",
        "\n",
        "# Random Forest for feature importance\n",
        "rf = RandomForestClassifier(random_state=42)\n",
        "rf.fit(X_scaled_df, y)\n",
        "\n",
        "importances = pd.Series(rf.feature_importances_, index=X_scaled_df.columns)\n",
        "importances = importances.sort_values(ascending=False)\n",
        "\n",
        "print(\"Top 10 features by RF importance:\")\n",
        "print(importances.head(10))\n"
      ]
    },
    {
      "cell_type": "markdown",
      "metadata": {
        "id": "gyM83eDCeyQk"
      },
      "source": [
        "RFE (Recursive Feature Elimination)"
      ]
    },
    {
      "cell_type": "code",
      "execution_count": null,
      "metadata": {
        "colab": {
          "base_uri": "https://localhost:8080/"
        },
        "id": "UCkXYwU6cfT7",
        "outputId": "adc1e63b-5692-4e05-f2f6-4a0dba7ccb3f"
      },
      "outputs": [
        {
          "output_type": "stream",
          "name": "stdout",
          "text": [
            "RFE selected features: ['age', 'sex', 'fbs', 'thalach', 'oldpeak', 'ca', 'cp_4.0', 'thal_7.0', 'slope_2.0', 'restecg_2.0']\n"
          ]
        }
      ],
      "source": [
        "from sklearn.feature_selection import RFE\n",
        "from sklearn.linear_model import LogisticRegression\n",
        "\n",
        "# Logistic Regression as base model\n",
        "log_reg = LogisticRegression(max_iter=1000, solver=\"liblinear\")\n",
        "\n",
        "# Apply RFE to select top 10 features\n",
        "rfe = RFE(log_reg, n_features_to_select=10)\n",
        "rfe.fit(X_scaled_df, y)\n",
        "\n",
        "selected_features = X_scaled_df.columns[rfe.support_]\n",
        "print(\"RFE selected features:\", list(selected_features))\n"
      ]
    },
    {
      "cell_type": "markdown",
      "metadata": {
        "id": "wK5AT2j3e1Sk"
      },
      "source": [
        "Chi-Square Test"
      ]
    },
    {
      "cell_type": "code",
      "execution_count": null,
      "metadata": {
        "colab": {
          "base_uri": "https://localhost:8080/"
        },
        "id": "38PD6wTyeje0",
        "outputId": "9e843bfc-5b56-4dc5-b457-f438735525af"
      },
      "outputs": [
        {
          "output_type": "stream",
          "name": "stdout",
          "text": [
            "Chi-Square selected features: ['sex', 'exang', 'oldpeak', 'ca', 'cp_2.0', 'cp_3.0', 'cp_4.0', 'thal_6.0', 'thal_7.0', 'slope_2.0']\n"
          ]
        }
      ],
      "source": [
        "from sklearn.feature_selection import SelectKBest, chi2\n",
        "from sklearn.preprocessing import MinMaxScaler\n",
        "\n",
        "# Scale features to [0,1] for chi2\n",
        "X_chi2 = MinMaxScaler().fit_transform(X_scaled_df)\n",
        "\n",
        "chi2_selector = SelectKBest(chi2, k=10)\n",
        "chi2_selector.fit(X_chi2, y)\n",
        "\n",
        "chi2_features = X_scaled_df.columns[chi2_selector.get_support()]\n",
        "print(\"Chi-Square selected features:\", list(chi2_features))\n"
      ]
    },
    {
      "cell_type": "markdown",
      "metadata": {
        "id": "3wJf9X1Ye4YD"
      },
      "source": [
        "Combine Results"
      ]
    },
    {
      "cell_type": "code",
      "execution_count": null,
      "metadata": {
        "colab": {
          "base_uri": "https://localhost:8080/"
        },
        "id": "VpRWwvYPemv0",
        "outputId": "f353e7b5-927a-4d37-c6df-68fcbb3bdf33"
      },
      "outputs": [
        {
          "output_type": "stream",
          "name": "stdout",
          "text": [
            "Common features (RF ∩ RFE ∩ Chi2): ['thal_7.0', 'cp_4.0', 'oldpeak', 'sex', 'ca', 'slope_2.0']\n",
            "Final features to use: ['thal_7.0', 'cp_4.0', 'oldpeak', 'sex', 'ca', 'slope_2.0']\n"
          ]
        }
      ],
      "source": [
        "# Take intersection of important features\n",
        "common_features = set(importances.head(15).index) & set(selected_features) & set(chi2_features)\n",
        "\n",
        "print(\"Common features (RF ∩ RFE ∩ Chi2):\", list(common_features))\n",
        "\n",
        "# Final features to use\n",
        "final_features = list(common_features)\n",
        "X_final = X_scaled_df[final_features]\n",
        "\n",
        "print(\"Final features to use:\", final_features)\n"
      ]
    }
  ]
}